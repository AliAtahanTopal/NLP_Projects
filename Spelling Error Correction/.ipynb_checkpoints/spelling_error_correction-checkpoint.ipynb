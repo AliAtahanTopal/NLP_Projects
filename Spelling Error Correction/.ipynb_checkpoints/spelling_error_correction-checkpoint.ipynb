{
 "cells": [
  {
   "cell_type": "code",
   "execution_count": 1,
   "metadata": {},
   "outputs": [],
   "source": [
    "import re\n",
    "from collections import Counter\n",
    "import itertools"
   ]
  },
  {
   "cell_type": "code",
   "execution_count": 2,
   "metadata": {},
   "outputs": [],
   "source": [
    "def words(text): return re.findall(r'\\w+', text.lower())\n",
    "\n",
    "WORDS = Counter(words(open('corpus.txt').read()))\n",
    "\n",
    "def P(word, N=sum(WORDS.values())): \n",
    "    return WORDS[word] / N\n",
    "\n",
    "def correction(word): \n",
    "    return max(candidates(word), key=P)\n",
    "\n",
    "def candidates(word): \n",
    "    return (known([word]) or known(edits1(word)) or [word])\n",
    "\n",
    "def known(words): \n",
    "    return set(w for w in words if w in WORDS)\n",
    "\n",
    "def edits1(word):\n",
    "    letters    = 'abcdefghijklmnopqrstuvwxyz'\n",
    "    splits     = [(word[:i], word[i:])    for i in range(len(word) + 1)]\n",
    "    deletes    = [L + R[1:]               for L, R in splits if R]\n",
    "    transposes = [L + R[1] + R[0] + R[2:] for L, R in splits if len(R)>1]\n",
    "    replaces   = [L + c + R[1:]           for L, R in splits if R for c in letters]\n",
    "    inserts    = [L + c + R               for L, R in splits for c in letters]\n",
    "    return set(deletes + transposes + replaces + inserts)\n",
    "\n",
    "#For enhanced version of the algorithm\n",
    "def edits2(word): \n",
    "    return (e2 for e1 in edits1(word) for e2 in edits1(e1))\n",
    "\n",
    "def candidates2(word): \n",
    "    return (known([word]) or known(edits1(word)) or known(edits2(word)) or [word])\n",
    "\n",
    "def correction2(word): \n",
    "    return max(candidates2(word), key=P)"
   ]
  },
  {
   "cell_type": "code",
   "execution_count": 3,
   "metadata": {},
   "outputs": [],
   "source": [
    "misspelled_words = words(open('test-words-misspelled.txt').read())"
   ]
  },
  {
   "cell_type": "code",
   "execution_count": 4,
   "metadata": {},
   "outputs": [],
   "source": [
    "corrected_words = []\n",
    "corrected_words_enhanced = []\n",
    "misspelled_corrected = {}\n",
    "misspelled_corrected_enhanced = {}\n",
    "count = 0\n",
    "for i in misspelled_words:\n",
    "    corrected_words.append(correction(i))\n",
    "    corrected_words_enhanced.append(correction2(i))\n",
    "    misspelled_corrected[misspelled_words[count]] = corrected_words[count]\n",
    "    misspelled_corrected_enhanced[misspelled_words[count]] = corrected_words_enhanced[count]\n",
    "    count += 1"
   ]
  },
  {
   "cell_type": "code",
   "execution_count": 5,
   "metadata": {},
   "outputs": [
    {
     "name": "stdout",
     "output_type": "stream",
     "text": [
      "First Version first 5 words {'abilty': 'ability', 'abraod': 'abroad', 'acedemic': 'academic', 'accesion': 'accession', 'accomodate': 'accommodate'}\n",
      "\n",
      "\n",
      "Enhanced version first 5 words {'abilty': 'ability', 'abraod': 'abroad', 'acedemic': 'academic', 'accesion': 'accession', 'accomodate': 'accommodate'}\n"
     ]
    }
   ],
   "source": [
    "print('First Version first 5 words', dict(itertools.islice(misspelled_corrected.items(), 5)))\n",
    "print('\\n')\n",
    "print('Enhanced version first 5 words', dict(itertools.islice(misspelled_corrected_enhanced.items(), 5)))"
   ]
  },
  {
   "cell_type": "code",
   "execution_count": 6,
   "metadata": {},
   "outputs": [],
   "source": [
    "file1 = open('corrected_words_file.txt', 'w+')\n",
    "file2 = open('corrected_words_enhanced_file.txt', 'w+')"
   ]
  },
  {
   "cell_type": "code",
   "execution_count": 7,
   "metadata": {},
   "outputs": [],
   "source": [
    "string = \"\"\n",
    "for i in corrected_words:\n",
    "    if i == corrected_words[-1]:\n",
    "        string += i\n",
    "    else:\n",
    "        string += i + '\\n'\n",
    "file1 = file1.write(string)\n",
    "\n",
    "string2 = \"\"\n",
    "for i in corrected_words_enhanced:\n",
    "    if i == corrected_words_enhanced[-1]:\n",
    "        string += i\n",
    "    else:\n",
    "        string += i + '\\n'\n",
    "file2 = file2.write(string)"
   ]
  },
  {
   "cell_type": "code",
   "execution_count": 8,
   "metadata": {},
   "outputs": [],
   "source": [
    "correct_words = words(open('test-words-correct.txt').read())"
   ]
  },
  {
   "cell_type": "code",
   "execution_count": 9,
   "metadata": {},
   "outputs": [],
   "source": [
    "corrects = 0\n",
    "wrongs = 0\n",
    "corrects2 = 0\n",
    "wrongs2 = 0\n",
    "for i in range(len(corrected_words)):\n",
    "    if corrected_words[i] == correct_words[i]:\n",
    "        corrects += 1\n",
    "    else:\n",
    "        wrongs += 1 \n",
    "    if corrected_words_enhanced[i] == correct_words[i]:\n",
    "        corrects2 += 1\n",
    "    else:\n",
    "        wrongs2 += 1 "
   ]
  },
  {
   "cell_type": "code",
   "execution_count": 10,
   "metadata": {},
   "outputs": [
    {
     "name": "stdout",
     "output_type": "stream",
     "text": [
      "-----------------First Version Stats-----------------\n",
      "Number of correct words: 281\n",
      "Number of wrong words: 103\n",
      "Accuracy Rate: 73.17708333333334 %\n",
      "\n",
      "\n",
      "------------Second Enhanced Version Stats------------\n",
      "Number of correct words: 295\n",
      "Number of wrong words: 89\n",
      "Accuracy Rate: 76.82291666666666 %\n"
     ]
    }
   ],
   "source": [
    "print('-----------------First Version Stats-----------------')\n",
    "print('Number of correct words:', corrects)\n",
    "print('Number of wrong words:', wrongs)\n",
    "print('Accuracy Rate:', ((corrects / len(corrected_words)) * 100), '%')\n",
    "print('\\n')\n",
    "print('------------Second Enhanced Version Stats------------')\n",
    "print('Number of correct words:', corrects2)\n",
    "print('Number of wrong words:', wrongs2)\n",
    "print('Accuracy Rate:', ((corrects2 / len(corrected_words_enhanced)) * 100), '%')"
   ]
  },
  {
   "cell_type": "code",
   "execution_count": 11,
   "metadata": {},
   "outputs": [
    {
     "name": "stdin",
     "output_type": "stream",
     "text": [
      "Enter a word to correct. Enter 0 for exit. sper\n",
      "Chose the method 1 for first, 2 for enhanced. 2\n"
     ]
    },
    {
     "name": "stdout",
     "output_type": "stream",
     "text": [
      "Correction: per\n"
     ]
    },
    {
     "name": "stdin",
     "output_type": "stream",
     "text": [
      "Enter a word to correct. Enter 0 for exit. 0\n"
     ]
    }
   ],
   "source": [
    "while True:\n",
    "    val = input('Enter a word to correct. Enter 0 for exit.')\n",
    "    if val == '0':\n",
    "        break\n",
    "    version = input('Chose the method 1 for first, 2 for enhanced.')\n",
    "    if version == '1':        \n",
    "        corrected_val = correction(val)\n",
    "        print('Correction:', corrected_val)\n",
    "    elif version == '2':\n",
    "        corrected_val = correction2(val)\n",
    "        print('Correction:', corrected_val)"
   ]
  },
  {
   "cell_type": "code",
   "execution_count": 12,
   "metadata": {},
   "outputs": [
    {
     "name": "stdin",
     "output_type": "stream",
     "text": [
      "Press any key to exit. \n"
     ]
    }
   ],
   "source": [
    "val = input('Press any key to exit.')"
   ]
  }
 ],
 "metadata": {
  "kernelspec": {
   "display_name": "Python 3",
   "language": "python",
   "name": "python3"
  },
  "language_info": {
   "codemirror_mode": {
    "name": "ipython",
    "version": 3
   },
   "file_extension": ".py",
   "mimetype": "text/x-python",
   "name": "python",
   "nbconvert_exporter": "python",
   "pygments_lexer": "ipython3",
   "version": "3.8.5"
  }
 },
 "nbformat": 4,
 "nbformat_minor": 4
}
